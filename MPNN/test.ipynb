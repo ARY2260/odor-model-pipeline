{
 "cells": [
  {
   "cell_type": "code",
   "execution_count": 1,
   "id": "2c2f8a4d-a6f0-4d6e-a77f-26e838af2472",
   "metadata": {
    "tags": []
   },
   "outputs": [
    {
     "name": "stderr",
     "output_type": "stream",
     "text": [
      "No normalization for AvgIpc. Feature removed!\n",
      "Skipped loading some Tensorflow models, missing a dependency. No module named 'tensorflow'\n",
      "Skipped loading modules with pytorch-geometric dependency, missing a dependency. No module named 'torch_geometric'\n",
      "Skipped loading modules with transformers dependency. No module named 'transformers'\n",
      "cannot import name 'HuggingFaceModel' from 'deepchem.models.torch_models' (/home/ec2-user/anaconda3/envs/pytorch_p310/lib/python3.10/site-packages/deepchem/models/torch_models/__init__.py)\n",
      "Skipped loading modules with pytorch-geometric dependency, missing a dependency. cannot import name 'DMPNN' from 'deepchem.models.torch_models' (/home/ec2-user/anaconda3/envs/pytorch_p310/lib/python3.10/site-packages/deepchem/models/torch_models/__init__.py)\n",
      "Skipped loading modules with pytorch-lightning dependency, missing a dependency. No module named 'pytorch_lightning'\n",
      "Skipped loading some Jax models, missing a dependency. No module named 'jax'\n"
     ]
    },
    {
     "name": "stdout",
     "output_type": "stream",
     "text": [
      "/home/ec2-user/SageMaker/odor analysis/odor-model-pipeline/MPNN\n"
     ]
    }
   ],
   "source": [
    "import pytest\n",
    "import deepchem as dc\n",
    "import tempfile\n",
    "import numpy as np\n",
    "import os\n",
    "print(os.getcwd())\n",
    "from dataset_mpnn import get_dataset\n",
    "\n",
    "try:\n",
    "    import torch\n",
    "    has_torch = True\n",
    "except:\n",
    "    has_torch = False"
   ]
  },
  {
   "cell_type": "code",
   "execution_count": 10,
   "id": "9178b5c4-a375-4a0b-8ac5-7b9c5e88ba5b",
   "metadata": {
    "tags": []
   },
   "outputs": [],
   "source": [
    "def test_custom_mpnn_model_classification(nb_epoch):\n",
    "    \"\"\"\n",
    "    \"\"\"\n",
    "    torch.manual_seed(0)\n",
    "\n",
    "    # load sample dataset\n",
    "    # dataset, class_imbalance_ratio = get_dataset(csv_path='assets/GS_LF_sample100.csv')\n",
    "    dataset, class_imbalance_ratio = get_dataset(csv_path='./../curated_GS_LF_merged_4984.csv')\n",
    "\n",
    "    # initialize the model\n",
    "    from custom_mpnn import CustomMPNNModel\n",
    "    from featurizer import GraphConvConstants\n",
    "\n",
    "    model = CustomMPNNModel(n_tasks = 138,\n",
    "                            batch_size=500,\n",
    "                            learning_rate=0.001,\n",
    "                            class_imbalance_ratio = class_imbalance_ratio,\n",
    "                            node_out_feats = 100,\n",
    "                            edge_hidden_feats = 120,\n",
    "                            num_step_message_passing = 2,\n",
    "                            mode = 'classification',\n",
    "                            number_atom_features = GraphConvConstants.ATOM_FDIM,\n",
    "                            number_bond_features = GraphConvConstants.BOND_FDIM,\n",
    "                            n_classes = 1,\n",
    "                            ffn_hidden_list= [64, 64],\n",
    "                            ffn_embeddings = 256,\n",
    "                            ffn_activation = 'relu',\n",
    "                            ffn_dropout_p = 0.2,\n",
    "                            ffn_dropout_at_input_no_act = True,\n",
    "                            weight_decay = 1e-6,\n",
    "                            self_loop = False,\n",
    "                            log_frequency = 1)\n",
    "\n",
    "    # test\n",
    "    for epoch in range(nb_epoch):\n",
    "        loss = model.fit(\n",
    "          dataset,\n",
    "          nb_epoch=1,\n",
    "          max_checkpoints_to_keep=1,\n",
    "          deterministic=False,\n",
    "          restore=epoch > 1)\n",
    "        print(f\"epoch {epoch}/{nb_epoch} ; loss = {loss}\")\n",
    "    metric = dc.metrics.Metric(dc.metrics.roc_auc_score)\n",
    "    scores = model.evaluate(dataset, [metric], n_classes=2)\n",
    "    print(scores['roc_auc_score'])"
   ]
  },
  {
   "cell_type": "code",
   "execution_count": 11,
   "id": "a42474fb-23c6-4dc9-a3af-df223ccb85c4",
   "metadata": {
    "tags": []
   },
   "outputs": [
    {
     "name": "stdout",
     "output_type": "stream",
     "text": [
      "number of odor tasks =  138\n"
     ]
    },
    {
     "name": "stderr",
     "output_type": "stream",
     "text": [
      "Failed to featurize datapoint 3399, S. Appending empty array\n",
      "Exception message: tuple index out of range\n",
      "Failed to featurize datapoint 3409, O. Appending empty array\n",
      "Exception message: tuple index out of range\n",
      "Failed to featurize datapoint 3414, [Cl-].[K+]. Appending empty array\n",
      "Exception message: tuple index out of range\n",
      "Failed to featurize datapoint 3582, [He]. Appending empty array\n",
      "Exception message: tuple index out of range\n",
      "Failed to featurize datapoint 3583, [Zn]. Appending empty array\n",
      "Exception message: tuple index out of range\n",
      "Failed to featurize datapoint 3602, O.O.O.O.O.O.[Cl-].[Cl-].[Co+2]. Appending empty array\n",
      "Exception message: tuple index out of range\n",
      "Failed to featurize datapoint 3615, [Cl-].[NH4+]. Appending empty array\n",
      "Exception message: tuple index out of range\n",
      "Failed to featurize datapoint 3616, [NH4+].[NH4+].[S-2]. Appending empty array\n",
      "Exception message: tuple index out of range\n",
      "Failed to featurize datapoint 3716, [Mg+2].[OH-].[OH-]. Appending empty array\n",
      "Exception message: tuple index out of range\n",
      "Failed to featurize datapoint 4446, [Ca+2].[OH-].[OH-]. Appending empty array\n",
      "Exception message: tuple index out of range\n",
      "Failed to featurize datapoint 4582, O.O.O.O.[Fe].[Fe].[Fe]. Appending empty array\n",
      "Exception message: tuple index out of range\n",
      "Failed to featurize datapoint 4591, [Al+3].[Al+3].[O-2].[O-2].[O-2]. Appending empty array\n",
      "Exception message: tuple index out of range\n",
      "Exception message: setting an array element with a sequence. The requested array has an inhomogeneous shape after 1 dimensions. The detected shape was (4984,) + inhomogeneous part.\n",
      "/home/ec2-user/anaconda3/envs/pytorch_p310/lib/python3.10/site-packages/dgl/backend/pytorch/tensor.py:449: UserWarning: TypedStorage is deprecated. It will be removed in the future and UntypedStorage will be the only storage class. This should only matter to you if you are using storages directly.  To access UntypedStorage directly, use tensor.untyped_storage() instead of tensor.storage()\n",
      "  assert input.numel() == input.storage().size(), (\n"
     ]
    },
    {
     "name": "stdout",
     "output_type": "stream",
     "text": [
      "epoch 0/10 ; loss = 0.4611878342674856\n",
      "epoch 1/10 ; loss = 0.38353842168917146\n",
      "epoch 2/10 ; loss = 0.3534078645639296\n",
      "epoch 3/10 ; loss = 0.34004693586138024\n",
      "epoch 4/10 ; loss = 0.3200361643668389\n",
      "epoch 5/10 ; loss = 0.3119316474326124\n",
      "epoch 6/10 ; loss = 0.3021239598371352\n",
      "epoch 7/10 ; loss = 0.2984927977108005\n",
      "epoch 8/10 ; loss = 0.2863968907471195\n",
      "epoch 9/10 ; loss = 0.2810437974944542\n",
      "0.33139793530034456\n"
     ]
    }
   ],
   "source": [
    "test_custom_mpnn_model_classification(10)"
   ]
  },
  {
   "cell_type": "code",
   "execution_count": null,
   "id": "1f61805f-98cb-4e32-9a67-3fc77cf23ca3",
   "metadata": {},
   "outputs": [],
   "source": []
  }
 ],
 "metadata": {
  "kernelspec": {
   "display_name": "conda_pytorch_p310",
   "language": "python",
   "name": "conda_pytorch_p310"
  },
  "language_info": {
   "codemirror_mode": {
    "name": "ipython",
    "version": 3
   },
   "file_extension": ".py",
   "mimetype": "text/x-python",
   "name": "python",
   "nbconvert_exporter": "python",
   "pygments_lexer": "ipython3",
   "version": "3.10.10"
  }
 },
 "nbformat": 4,
 "nbformat_minor": 5
}
